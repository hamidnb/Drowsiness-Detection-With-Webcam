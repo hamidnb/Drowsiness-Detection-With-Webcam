{
 "cells": [
  {
   "cell_type": "code",
   "execution_count": 1,
   "metadata": {},
   "outputs": [],
   "source": [
    "import matplotlib.pyplot as plt\n",
    "import dlib\n",
    "import cv2 \n",
    "import numpy as np\n",
    "import numpy as np\n",
    "import time  "
   ]
  },
  {
   "cell_type": "code",
   "execution_count": null,
   "metadata": {},
   "outputs": [],
   "source": [
    "cap = cv2.VideoCapture(0)\n",
    "detector = dlib.get_frontal_face_detector()\n",
    "dlib_facelanmarks = dlib.shape_predictor(\"shape_predictor_68_face_landmarks.dat\")\n"
   ]
  },
  {
   "cell_type": "code",
   "execution_count": null,
   "metadata": {},
   "outputs": [],
   "source": [
    "EAR_THRESHOLD = 0.25  \n",
    "SLEEP_DURATION = 1.0  \n",
    "blink_start_time = None"
   ]
  },
  {
   "cell_type": "code",
   "execution_count": null,
   "metadata": {},
   "outputs": [],
   "source": [
    "COLOR_OPEN = (50, 255, 50)   \n",
    "COLOR_CLOSED = (50, 50, 255) \n",
    "COLOR_BG = (40, 40, 40)\n",
    "COLOR_TEXT = (200, 200, 200)\n"
   ]
  },
  {
   "cell_type": "code",
   "execution_count": null,
   "metadata": {},
   "outputs": [],
   "source": [
    "FONT = cv2.FONT_HERSHEY_SIMPLEX\n",
    "FONT_SCALE_SMALL = 0.5\n",
    "FONT_SCALE_LARGE = 0.7\n",
    "FONT_THICKNESS = 1\n"
   ]
  },
  {
   "cell_type": "code",
   "execution_count": null,
   "metadata": {},
   "outputs": [],
   "source": [
    "def eye_aspect_ratio(eye_points):\n",
    "    eye = np.array(eye_points, dtype=np.float32)\n",
    "    vertical1 = np.linalg.norm(eye[1] - eye[5])\n",
    "    vertical2 = np.linalg.norm(eye[2] - eye[4])\n",
    "    horizontal = np.linalg.norm(eye[0] - eye[3])\n",
    "    return (vertical1 + vertical2) / (2.0 * horizontal)"
   ]
  },
  {
   "cell_type": "code",
   "execution_count": null,
   "metadata": {},
   "outputs": [],
   "source": [
    "while True:\n",
    "    ret, frame = cap.read()\n",
    "    if not ret:\n",
    "        break\n",
    "\n",
    "    flipped = cv2.flip(frame, 1)\n",
    "    gray = cv2.cvtColor(flipped, cv2.COLOR_BGR2GRAY)\n",
    "    faces = detector(gray)\n",
    "\n",
    "    current_ear = None\n",
    "\n",
    "    for face in faces:\n",
    "        face_landmarks = dlib_facelanmarks(gray, face)\n",
    "\n",
    "        left_eye = [(face_landmarks.part(n).x, face_landmarks.part(n).y) for n in range(36, 42)]\n",
    "        right_eye = [(face_landmarks.part(n).x, face_landmarks.part(n).y) for n in range(42, 48)]\n",
    "\n",
    "        left_ear = eye_aspect_ratio(left_eye)\n",
    "        right_ear = eye_aspect_ratio(right_eye)\n",
    "        current_ear = (left_ear + right_ear) / 2.0\n",
    "\n",
    "        eye_color = COLOR_CLOSED if current_ear < EAR_THRESHOLD else COLOR_OPEN\n",
    "        for (x, y) in left_eye + right_eye:\n",
    "            cv2.circle(flipped, (x, y), 2, eye_color, -1)\n",
    "\n",
    "        if current_ear < EAR_THRESHOLD:\n",
    "            if blink_start_time is None:\n",
    "                blink_start_time = time.time()\n",
    "            else:\n",
    "                closed_duration = time.time() - blink_start_time\n",
    "                if closed_duration >= SLEEP_DURATION:\n",
    "\n",
    "                    alert_bg = flipped.copy()\n",
    "                    cv2.rectangle(alert_bg, (0, 0), (flipped.shape[1], 50), COLOR_CLOSED, -1)\n",
    "                    alpha = 0.2 * (1 + np.sin(time.time() * 10))\n",
    "                    cv2.addWeighted(alert_bg, alpha, flipped, 1 - alpha, 0, flipped)\n",
    "                    cv2.putText(flipped, \"SLEEPING!\", (flipped.shape[1]//2 - 70, 40), \n",
    "                               FONT, 1, (255, 255, 255), 2, cv2.LINE_AA)\n",
    "        else:\n",
    "            blink_start_time = None\n",
    "\n",
    "    cv2.rectangle(flipped, (10, 10), (120, 50), COLOR_BG, -1)\n",
    "    ear_text = f\"EAR: {current_ear:.2f}\" if current_ear else \"EAR: N/A\"\n",
    "    text_color = COLOR_CLOSED if current_ear and current_ear < EAR_THRESHOLD else COLOR_TEXT\n",
    "    cv2.putText(flipped, ear_text, (15, 35), FONT, FONT_SCALE_SMALL, \n",
    "               text_color, FONT_THICKNESS, cv2.LINE_AA)\n",
    "\n",
    "    if blink_start_time is not None:\n",
    "        closed_duration = time.time() - blink_start_time\n",
    "        progress = min(closed_duration / SLEEP_DURATION, 1.0)\n",
    "        cv2.rectangle(flipped, (10, 55), (120, 60), COLOR_TEXT, 1)\n",
    "        cv2.rectangle(flipped, (12, 56), (int(10 + 108 * progress), 59), COLOR_CLOSED, -1)\n",
    "\n",
    "    cv2.imshow(\"Eye Monitoring\", flipped)\n",
    "    key = cv2.waitKey(1)\n",
    "    if key == 27:\n",
    "        break\n",
    "\n",
    "cap.release()\n",
    "cv2.destroyAllWindows()"
   ]
  },
  {
   "cell_type": "code",
   "execution_count": null,
   "metadata": {},
   "outputs": [],
   "source": []
  }
 ],
 "metadata": {
  "kernelspec": {
   "display_name": "base",
   "language": "python",
   "name": "python3"
  },
  "language_info": {
   "codemirror_mode": {
    "name": "ipython",
    "version": 3
   },
   "file_extension": ".py",
   "mimetype": "text/x-python",
   "name": "python",
   "nbconvert_exporter": "python",
   "pygments_lexer": "ipython3",
   "version": "3.12.7"
  }
 },
 "nbformat": 4,
 "nbformat_minor": 2
}
